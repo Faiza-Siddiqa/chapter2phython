{
 "cells": [
  {
   "cell_type": "code",
   "execution_count": 1,
   "id": "06b19c72",
   "metadata": {},
   "outputs": [],
   "source": [
    "x = 5\n"
   ]
  },
  {
   "cell_type": "code",
   "execution_count": 3,
   "id": "bc454aec",
   "metadata": {},
   "outputs": [
    {
     "name": "stdout",
     "output_type": "stream",
     "text": [
      "Bigger than 2\n"
     ]
    }
   ],
   "source": [
    "if x > 2 :\n",
    "    print('Bigger than 2')\n"
   ]
  },
  {
   "cell_type": "code",
   "execution_count": 4,
   "id": "6628bce5",
   "metadata": {},
   "outputs": [
    {
     "name": "stdout",
     "output_type": "stream",
     "text": [
      "Still bigger\n"
     ]
    }
   ],
   "source": [
    "print('Still bigger')\n"
   ]
  },
  {
   "cell_type": "code",
   "execution_count": 5,
   "id": "9649072f",
   "metadata": {},
   "outputs": [
    {
     "name": "stdout",
     "output_type": "stream",
     "text": [
      "Done with 2\n"
     ]
    }
   ],
   "source": [
    "print('Done with 2')\n"
   ]
  },
  {
   "cell_type": "code",
   "execution_count": 6,
   "id": "34f598d1",
   "metadata": {},
   "outputs": [
    {
     "name": "stdout",
     "output_type": "stream",
     "text": [
      "0\n",
      "1\n",
      "2\n",
      "3\n",
      "4\n"
     ]
    }
   ],
   "source": [
    "for i in range(5) :\n",
    "    print(i)\n"
   ]
  },
  {
   "cell_type": "code",
   "execution_count": 8,
   "id": "0b38c6b2",
   "metadata": {},
   "outputs": [
    {
     "name": "stdout",
     "output_type": "stream",
     "text": [
      "Bigger than 2\n",
      "Done with i 4\n",
      "All Done\n"
     ]
    }
   ],
   "source": [
    "if i > 2 : \n",
    "    print('Bigger than 2')\n",
    "    print('Done with i', i)\n",
    "    print('All Done')"
   ]
  },
  {
   "cell_type": "code",
   "execution_count": null,
   "id": "32636f8a",
   "metadata": {},
   "outputs": [],
   "source": []
  }
 ],
 "metadata": {
  "kernelspec": {
   "display_name": "Python 3 (ipykernel)",
   "language": "python",
   "name": "python3"
  },
  "language_info": {
   "codemirror_mode": {
    "name": "ipython",
    "version": 3
   },
   "file_extension": ".py",
   "mimetype": "text/x-python",
   "name": "python",
   "nbconvert_exporter": "python",
   "pygments_lexer": "ipython3",
   "version": "3.11.4"
  }
 },
 "nbformat": 4,
 "nbformat_minor": 5
}
