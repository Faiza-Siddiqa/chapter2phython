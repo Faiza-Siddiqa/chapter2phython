{
 "cells": [
  {
   "cell_type": "code",
   "execution_count": null,
   "id": "ca5d0a08",
   "metadata": {},
   "outputs": [],
   "source": [
    "num1=input(\"enter your number \")\n"
   ]
  },
  {
   "cell_type": "code",
   "execution_count": null,
   "id": "5be1ac45",
   "metadata": {},
   "outputs": [],
   "source": [
    "num2=input(\"enter your number\")\n",
    "8"
   ]
  },
  {
   "cell_type": "code",
   "execution_count": null,
   "id": "481c07cb",
   "metadata": {},
   "outputs": [],
   "source": [
    "print(\"choose operation\")\n"
   ]
  },
  {
   "cell_type": "code",
   "execution_count": null,
   "id": "81eef446",
   "metadata": {},
   "outputs": [],
   "source": [
    "operator=input(\" enter a operator\")\n",
    "+"
   ]
  },
  {
   "cell_type": "code",
   "execution_count": null,
   "id": "a8d3d9b1",
   "metadata": {},
   "outputs": [],
   "source": [
    "if operator == '+':\n",
    "print(first + second)\n"
   ]
  },
  {
   "cell_type": "code",
   "execution_count": null,
   "id": "895d16ec",
   "metadata": {},
   "outputs": [],
   "source": [
    "elif operator == \"-\":\n",
    "print(first - second)\n"
   ]
  },
  {
   "cell_type": "code",
   "execution_count": null,
   "id": "76225429",
   "metadata": {},
   "outputs": [],
   "source": [
    "elif operator == \"*\":\n",
    "print(first * second)\n"
   ]
  },
  {
   "cell_type": "code",
   "execution_count": null,
   "id": "c8bd7bd9",
   "metadata": {},
   "outputs": [],
   "source": [
    "elif operator == \"/\":\n",
    "print(first / second)\n"
   ]
  },
  {
   "cell_type": "code",
   "execution_count": null,
   "id": "ab79a2a3",
   "metadata": {},
   "outputs": [],
   "source": [
    "elif operator == \"%\":\n",
    "print(first % second)\n"
   ]
  },
  {
   "cell_type": "code",
   "execution_count": null,
   "id": "8113e28c",
   "metadata": {},
   "outputs": [],
   "source": [
    "else:\n",
    "print(\"Invalid)"
   ]
  },
  {
   "cell_type": "code",
   "execution_count": null,
   "id": "3d37f437",
   "metadata": {},
   "outputs": [],
   "source": []
  },
  {
   "cell_type": "code",
   "execution_count": null,
   "id": "5da73875",
   "metadata": {},
   "outputs": [],
   "source": []
  }
 ],
 "metadata": {
  "kernelspec": {
   "display_name": "Python 3 (ipykernel)",
   "language": "python",
   "name": "python3"
  },
  "language_info": {
   "codemirror_mode": {
    "name": "ipython",
    "version": 3
   },
   "file_extension": ".py",
   "mimetype": "text/x-python",
   "name": "python",
   "nbconvert_exporter": "python",
   "pygments_lexer": "ipython3",
   "version": "3.11.4"
  }
 },
 "nbformat": 4,
 "nbformat_minor": 5
}
